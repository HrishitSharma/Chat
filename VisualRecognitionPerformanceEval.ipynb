{
 "cells": [
  {
   "attachments": {},
   "cell_type": "markdown",
   "metadata": {},
   "source": [
    "# Notebook for testing performance of Visual Recognition Custom Classifiers\n",
    "[Watson Platform](https://www.ibm.com/watson/products-services/) AI capabilities are organized into 6 categories and available as API’s on IBM Cloud. You can train and adapt the Watson AI API's using a **supervised learning** approach. This begs the questions: \"How many examples should we provide?\" and \"When is my solution ready for prime time?\"\n",
    "\n",
    "It is critical to understand that training a machine learning solution is an iterative process where it is important to continually improve the solution by providing new examples and measuring the performance of the trained solution. In this notebook, we show how you can compute important Machine Learning metrics (accuracy, precision, recall, confusion_matrix) to judge the performance of a custom Watson Visual Recognition model.\n",
    "\n",
    "*__This notebook is based on the work by Joe Kozhaya and has been enhanced based on the work from this repo https://github.com/joe4k/wdcutils.__*\n",
    "\n",
    "__Precision__: Proportion of information found that is correct or relevant. When testing \"home room\" image classification model on 1000 example images, 700 predicted as \"kitchen\". But only 500 of the were correct predictions. So your precision is 500/700 = 0.71. *Low Precision ⇒ Lots of False Positives*\n",
    "\n",
    "__Recall__: Proportion of how many examples of interest the model has identified. Recall is a measure of how many true positives were found. If the \"home room\" model, say out of 100 bathroom images, predicted 90 (out of those 100), then recall is 90/100 = 0.9. *Low Recall ⇒ Lots of False Negatives*\n",
    "\n",
    "__F1-Score__: F1 score conveys the balance between the precision and the recall. F1 score reaches its best value at 1 and worst score at 0. *Low F1 ⇒ Low P & R*\n",
    "\n",
    "    f = 2 * (precision * recall) / (precision + recall)\n",
    "\n",
    "__Confusion Matrix__ is commonly used to describe the performance of a classification model on a set of test data for which true values are known. Each row of the matrix represents the instances in a predicted class while each column represents the instances in an actual class (or vice versa)."
   ]
  },
  {
   "cell_type": "markdown",
   "metadata": {},
   "source": [
    "<br> The notebook assumes you have already created a Watson [Visual Recognition](https://www.ibm.com/watson/developercloud/visual-recognition.html) instance and trained [custom classifiers](https://www.ibm.com/watson/developercloud/doc/visual-recognition/tutorial-custom-classifier.html). </br>\n",
    "<br> To leverage this notebook, you need to provide the following information</br>\n",
    "* Credentials for your Visual Recognition instance (apikey)\n",
    "* id for your trained classifier (this is returned when you train your Visual Recognition custom classifier)\n",
    "* csv file with your test images (paths to images on your local disk) and corresponding class labels (image, class are the columns)\n",
    "* results csv file to write the results to (true vs. predicted class labels)\n",
    "* csv file to write confusion matrix to\n",
    "\n",
    "Note that the input test csv file should have a header with the fields **image** and **class**. "
   ]
  },
  {
   "cell_type": "code",
   "execution_count": 1,
   "metadata": {
    "scrolled": true
   },
   "outputs": [
    {
     "name": "stdout",
     "output_type": "stream",
     "text": [
      "Collecting pandas_ml\n",
      "  Using cached https://files.pythonhosted.org/packages/c1/28/19289aabaecac9bd7ea34c43310fa16bbdda818e1f635747e81b376526ca/pandas_ml-0.5.0.tar.gz\n",
      "Collecting pandas>=0.17.0 (from pandas_ml)\n",
      "  Using cached https://files.pythonhosted.org/packages/82/62/e9058dc7f4d3be74d1111c14bc69a6edb8aeefbd4f6974f151d9d724fe04/pandas-0.22.0-cp27-cp27m-macosx_10_6_intel.macosx_10_9_intel.macosx_10_9_x86_64.macosx_10_10_intel.macosx_10_10_x86_64.whl\n",
      "Collecting enum34 (from pandas_ml)\n",
      "  Using cached https://files.pythonhosted.org/packages/c5/db/e56e6b4bbac7c4a06de1c50de6fe1ef3810018ae11732a50f15f62c7d050/enum34-1.1.6-py2-none-any.whl\n",
      "Requirement already satisfied: python-dateutil in /System/Library/Frameworks/Python.framework/Versions/2.7/Extras/lib/python (from pandas>=0.17.0->pandas_ml) (1.5)\n",
      "Collecting numpy>=1.9.0 (from pandas>=0.17.0->pandas_ml)\n",
      "\u001b[?25l  Downloading https://files.pythonhosted.org/packages/b8/97/ecff917542e3a8a33bc8e88c031ed50c90577fd205eab362b29f3e57c09e/numpy-1.14.3-cp27-cp27m-macosx_10_6_intel.macosx_10_9_intel.macosx_10_9_x86_64.macosx_10_10_intel.macosx_10_10_x86_64.whl (4.7MB)\n",
      "\u001b[K    100% |████████████████████████████████| 4.7MB 1.9MB/s ta 0:00:01\n",
      "\u001b[?25hRequirement already satisfied: pytz>=2011k in /System/Library/Frameworks/Python.framework/Versions/2.7/Extras/lib/python (from pandas>=0.17.0->pandas_ml) (2013.7)\n",
      "\u001b[31mmatplotlib 1.3.1 requires nose, which is not installed.\u001b[0m\n",
      "\u001b[31mmatplotlib 1.3.1 requires tornado, which is not installed.\u001b[0m\n",
      "Installing collected packages: numpy, pandas, enum34, pandas-ml\n",
      "  Found existing installation: numpy 1.8.0rc1\n",
      "\u001b[31mCannot uninstall 'numpy'. It is a distutils installed project and thus we cannot accurately determine which files belong to it which would lead to only a partial uninstall.\u001b[0m\n",
      "\u001b[33mYou are using pip version 10.0.0, however version 10.0.1 is available.\n",
      "You should consider upgrading via the 'pip install --upgrade pip' command.\u001b[0m\n",
      "Collecting watson-developer-cloud\n",
      "\u001b[?25l  Downloading https://files.pythonhosted.org/packages/4f/b5/d2242076082287db54ba04b435cf288b0fd03e767faf34df70d809cec404/watson-developer-cloud-1.3.3.tar.gz (177kB)\n",
      "\u001b[K    100% |████████████████████████████████| 184kB 2.0MB/s ta 0:00:01\n",
      "\u001b[?25hRequirement not upgraded as not directly required: requests<3.0,>=2.0 in /Library/Python/2.7/site-packages (from watson-developer-cloud) (2.12.4)\n",
      "Collecting python_dateutil>=2.5.3 (from watson-developer-cloud)\n",
      "  Using cached https://files.pythonhosted.org/packages/0c/57/19f3a65bcf6d5be570ee8c35a5398496e10a0ddcbc95393b2d17f86aaaf8/python_dateutil-2.7.2-py2.py3-none-any.whl\n",
      "Collecting autobahn>=0.10.9 (from watson-developer-cloud)\n",
      "  Using cached https://files.pythonhosted.org/packages/ec/80/b1172311d09f7b1b27f9260e21fc4374c4b72ad1ad1c87862e8f364d8b67/autobahn-18.4.1-py2.py3-none-any.whl\n",
      "Collecting Twisted>=13.2.0 (from watson-developer-cloud)\n",
      "\u001b[?25l  Downloading https://files.pythonhosted.org/packages/12/2a/e9e4fb2e6b2f7a75577e0614926819a472934b0b85f205ba5d5d2add54d0/Twisted-18.4.0.tar.bz2 (3.0MB)\n",
      "\u001b[K    100% |████████████████████████████████| 3.0MB 2.9MB/s ta 0:00:01\n",
      "\u001b[?25hCollecting pyOpenSSL>=16.2.0 (from watson-developer-cloud)\n",
      "  Using cached https://files.pythonhosted.org/packages/79/db/7c0cfe4aa8341a5fab4638952520d8db6ab85ff84505e12c00ea311c3516/pyOpenSSL-17.5.0-py2.py3-none-any.whl\n",
      "Collecting service-identity>=17.0.0 (from watson-developer-cloud)\n",
      "  Using cached https://files.pythonhosted.org/packages/29/fa/995e364220979e577e7ca232440961db0bf996b6edaf586a7d1bd14d81f1/service_identity-17.0.0-py2.py3-none-any.whl\n",
      "Collecting six>=1.5 (from python_dateutil>=2.5.3->watson-developer-cloud)\n",
      "  Using cached https://files.pythonhosted.org/packages/67/4b/141a581104b1f6397bfa78ac9d43d8ad29a7ca43ea90a2d863fe3056e86a/six-1.11.0-py2.py3-none-any.whl\n",
      "Collecting txaio>=2.10.0 (from autobahn>=0.10.9->watson-developer-cloud)\n",
      "  Using cached https://files.pythonhosted.org/packages/dc/2e/c8a877b0a5c2798fa93ebcc1465a72a68c089e5f8b0a852ca335751dcc5a/txaio-2.10.0-py2.py3-none-any.whl\n",
      "Collecting zope.interface>=4.4.2 (from Twisted>=13.2.0->watson-developer-cloud)\n",
      "\u001b[?25l  Downloading https://files.pythonhosted.org/packages/ac/8a/657532df378c2cd2a1fe6b12be3b4097521570769d4852ec02c24bd3594e/zope.interface-4.5.0.tar.gz (151kB)\n",
      "\u001b[K    100% |████████████████████████████████| 153kB 1.9MB/s ta 0:00:01\n",
      "\u001b[?25hCollecting constantly>=15.1 (from Twisted>=13.2.0->watson-developer-cloud)\n",
      "  Using cached https://files.pythonhosted.org/packages/b9/65/48c1909d0c0aeae6c10213340ce682db01b48ea900a7d9fce7a7910ff318/constantly-15.1.0-py2.py3-none-any.whl\n",
      "Collecting incremental>=16.10.1 (from Twisted>=13.2.0->watson-developer-cloud)\n",
      "  Using cached https://files.pythonhosted.org/packages/f5/1d/c98a587dc06e107115cf4a58b49de20b19222c83d75335a192052af4c4b7/incremental-17.5.0-py2.py3-none-any.whl\n",
      "Collecting Automat>=0.3.0 (from Twisted>=13.2.0->watson-developer-cloud)\n",
      "  Using cached https://files.pythonhosted.org/packages/17/6a/1baf488c2015ecafda48c03ca984cf0c48c254622668eb1732dbe2eae118/Automat-0.6.0-py2.py3-none-any.whl\n",
      "Collecting hyperlink>=17.1.1 (from Twisted>=13.2.0->watson-developer-cloud)\n",
      "  Using cached https://files.pythonhosted.org/packages/a7/b6/84d0c863ff81e8e7de87cff3bd8fd8f1054c227ce09af1b679a8b17a9274/hyperlink-18.0.0-py2.py3-none-any.whl\n",
      "Collecting cryptography>=2.1.4 (from pyOpenSSL>=16.2.0->watson-developer-cloud)\n",
      "  Using cached https://files.pythonhosted.org/packages/58/c1/23bea66007d4be75ce02056fac665f9a207535e89fb3c7931420fa4a5f57/cryptography-2.2.2-cp27-cp27m-macosx_10_6_intel.whl\n",
      "Collecting attrs (from service-identity>=17.0.0->watson-developer-cloud)\n",
      "  Using cached https://files.pythonhosted.org/packages/b5/60/4e178c1e790fd60f1229a9b3cb2f8bc2f4cc6ff2c8838054c142c70b5adc/attrs-17.4.0-py2.py3-none-any.whl\n",
      "Collecting pyasn1 (from service-identity>=17.0.0->watson-developer-cloud)\n",
      "  Using cached https://files.pythonhosted.org/packages/ba/fe/02e3e2ee243966b143657fb8bd6bc97595841163b6d8c26820944acaec4d/pyasn1-0.4.2-py2.py3-none-any.whl\n",
      "Collecting pyasn1-modules (from service-identity>=17.0.0->watson-developer-cloud)\n",
      "  Using cached https://files.pythonhosted.org/packages/e9/51/bcd96bf6231d4b2cc5e023c511bee86637ba375c44a6f9d1b4b7ad1ce4b9/pyasn1_modules-0.2.1-py2.py3-none-any.whl\n",
      "Requirement not upgraded as not directly required: setuptools in /System/Library/Frameworks/Python.framework/Versions/2.7/Extras/lib/python (from zope.interface>=4.4.2->Twisted>=13.2.0->watson-developer-cloud) (18.5)\n",
      "Collecting idna>=2.5 (from hyperlink>=17.1.1->Twisted>=13.2.0->watson-developer-cloud)\n",
      "  Using cached https://files.pythonhosted.org/packages/27/cc/6dd9a3869f15c2edfab863b992838277279ce92663d334df9ecf5106f5c6/idna-2.6-py2.py3-none-any.whl\n",
      "Collecting cffi>=1.7; platform_python_implementation != \"PyPy\" (from cryptography>=2.1.4->pyOpenSSL>=16.2.0->watson-developer-cloud)\n",
      "  Using cached https://files.pythonhosted.org/packages/7e/4a/b647e46faaa2dcfb16069b6aad2d8509982fd63710a325b8ad7db80f18be/cffi-1.11.5-cp27-cp27m-macosx_10_6_intel.whl\n",
      "Collecting enum34; python_version < \"3\" (from cryptography>=2.1.4->pyOpenSSL>=16.2.0->watson-developer-cloud)\n",
      "  Using cached https://files.pythonhosted.org/packages/c5/db/e56e6b4bbac7c4a06de1c50de6fe1ef3810018ae11732a50f15f62c7d050/enum34-1.1.6-py2-none-any.whl\n",
      "Collecting asn1crypto>=0.21.0 (from cryptography>=2.1.4->pyOpenSSL>=16.2.0->watson-developer-cloud)\n",
      "  Using cached https://files.pythonhosted.org/packages/ea/cd/35485615f45f30a510576f1a56d1e0a7ad7bd8ab5ed7cdc600ef7cd06222/asn1crypto-0.24.0-py2.py3-none-any.whl\n",
      "Collecting ipaddress; python_version < \"3\" (from cryptography>=2.1.4->pyOpenSSL>=16.2.0->watson-developer-cloud)\n",
      "  Using cached https://files.pythonhosted.org/packages/fc/d0/7fc3a811e011d4b388be48a0e381db8d990042df54aa4ef4599a31d39853/ipaddress-1.0.22-py2.py3-none-any.whl\n",
      "Collecting pycparser (from cffi>=1.7; platform_python_implementation != \"PyPy\"->cryptography>=2.1.4->pyOpenSSL>=16.2.0->watson-developer-cloud)\n",
      "  Using cached https://files.pythonhosted.org/packages/8c/2d/aad7f16146f4197a11f8e91fb81df177adcc2073d36a17b1491fd09df6ed/pycparser-2.18.tar.gz\n",
      "\u001b[31mmatplotlib 1.3.1 requires nose, which is not installed.\u001b[0m\n",
      "\u001b[31mmatplotlib 1.3.1 requires tornado, which is not installed.\u001b[0m\n",
      "Installing collected packages: six, python-dateutil, txaio, autobahn, zope.interface, constantly, incremental, attrs, Automat, idna, hyperlink, Twisted, pycparser, cffi, enum34, asn1crypto, ipaddress, cryptography, pyOpenSSL, pyasn1, pyasn1-modules, service-identity, watson-developer-cloud\n",
      "  Found existing installation: six 1.4.1\n"
     ]
    },
    {
     "name": "stdout",
     "output_type": "stream",
     "text": [
      "\u001b[31mCannot uninstall 'six'. It is a distutils installed project and thus we cannot accurately determine which files belong to it which would lead to only a partial uninstall.\u001b[0m\n",
      "\u001b[33mYou are using pip version 10.0.0, however version 10.0.1 is available.\n",
      "You should consider upgrading via the 'pip install --upgrade pip' command.\u001b[0m\n"
     ]
    }
   ],
   "source": [
    "# Only run this the first time if pandas_ml is not installed on your machine\n",
    "!pip install pandas_ml\n",
    "\n",
    "# Install latest version of watson_developer_cloud Python SDK\n",
    "!pip install --upgrade watson-developer-cloud"
   ]
  },
  {
   "cell_type": "code",
   "execution_count": 2,
   "metadata": {},
   "outputs": [],
   "source": [
    "#Import utilities\n",
    "import json\n",
    "import csv\n",
    "import sys\n",
    "from sklearn.metrics import confusion_matrix\n",
    "from sklearn.metrics import precision_recall_fscore_support\n",
    "from sklearn.metrics import classification_report\n",
    "from sklearn.metrics import accuracy_score\n",
    "import matplotlib.pyplot as plt\n",
    "import pandas_ml\n",
    "from pandas_ml import ConfusionMatrix\n",
    "from watson_developer_cloud import VisualRecognitionV3"
   ]
  },
  {
   "cell_type": "markdown",
   "metadata": {},
   "source": [
    "Provide the path to the parms file which includes credentials to access your VR service as well as the input\n",
    "test csv file and the output csv files to write the output results to."
   ]
  },
  {
   "cell_type": "code",
   "execution_count": 3,
   "metadata": {},
   "outputs": [],
   "source": [
    "# Parameters that are needed for the evaluation script to run\n",
    "\n",
    "url='https://gateway-a.watsonplatform.net/visual-recognition/api'\n",
    "apikey='YOUR API KEY'\n",
    "vr_id='YOUR MODEL ID'\n",
    "test_csv_file='../test/files.csv'\n",
    "results_csv_file='../test/results.csv'\n",
    "confmatrix_csv_file='../test/confusionmatrix.csv'\n",
    "\n",
    "# Create an object for your Visual Recognition instance\n",
    "visual_recognition = VisualRecognitionV3('2018-03-19', api_key=apikey)"
   ]
  },
  {
   "cell_type": "markdown",
   "metadata": {},
   "source": [
    "Define useful methods to classify using custom VR classifier."
   ]
  },
  {
   "cell_type": "code",
   "execution_count": 4,
   "metadata": {},
   "outputs": [],
   "source": [
    "# Given an image and a pointer to VR instance and classifierID, get back VR response\n",
    "def getVRresponse(vr_instance,classifierID,image_path):\n",
    "    with open(image_path, 'rb') as image_file:\n",
    "        parameters = json.dumps({'threshold':0.01, 'classifier_ids': [classifierID]})\n",
    "       #parameters = json.dumps({'threshold':0.01, 'classifier_ids': ['travel_1977348895','travel_2076475268','default']}) \n",
    "        image_results = vr_instance.classify(images_file=image_file,\n",
    "                                             parameters = parameters)\n",
    "        # For our purposes, we assume each call is to classify one image\n",
    "        # Although the Visual Recognition classify endpoint accepts as input\n",
    "        # a .zip file, we need each image to be labeled with the correct class\n",
    "        classList = []\n",
    "        for classifier in image_results['images'][0]['classifiers']:\n",
    "            if classifier['classifier_id'] == vr_id:\n",
    "                classList = classifier['classes']\n",
    "                break\n",
    "        # Sort the returned classes by score\n",
    "        #print(\"classList: \", classList)\n",
    "        sorted_classList = sorted(classList, key=lambda k: k.get('score', 0), reverse=True)\n",
    "        #print(\"sortedList: \", sorted_classList)\n",
    "    return sorted_classList\n",
    "\n",
    "# Process multiple images (provided via csv file) in batch. Effectively, read the csv file and for each image\n",
    "# utterance, get VR response. Aggregate and return results.\n",
    "def batchVR(vr_instance,classifierID,csvfile):\n",
    "    test_classes=[]\n",
    "    vr_predict_classes=[]\n",
    "    vr_predict_confidence=[]\n",
    "    images=[]\n",
    "    i=0\n",
    "    with open(csvfile, 'r') as csvfile:\n",
    "        csvReader=csv.DictReader(csvfile)\n",
    "        for row in csvReader:\n",
    "            test_classes.append(row['class'])\n",
    "            vr_response = getVRresponse(vr_instance,classifierID,row['image'])\n",
    "            vr_predict_classes.append(vr_response[0]['class'])\n",
    "            vr_predict_confidence.append(vr_response[0]['score'])\n",
    "            images.append(row['image'])\n",
    "            i = i+1\n",
    "            if(i%250 == 0):\n",
    "                print(\"\")\n",
    "                print(\"Processed \", i, \" records\")\n",
    "            if(i%10 == 0):\n",
    "                sys.stdout.write('.')\n",
    "        print(\"\")\n",
    "        print(\"Finished processing \", i, \" records\")\n",
    "    return test_classes, vr_predict_classes, vr_predict_confidence, images\n",
    "\n",
    "# Plot confusion matrix as an image\n",
    "def plot_conf_matrix(conf_matrix):\n",
    "    plt.figure()\n",
    "    plt.imshow(conf_matrix)\n",
    "    plt.show()\n",
    "\n",
    "# Print confusion matrix to a csv file\n",
    "def confmatrix2csv(conf_matrix,labels,csvfile):\n",
    "    with open(csvfile, 'w') as csvfile:\n",
    "        csvWriter = csv.writer(csvfile)\n",
    "        row=list(labels)\n",
    "        row.insert(0,\"\")\n",
    "        csvWriter.writerow(row)\n",
    "        for i in range(conf_matrix.shape[0]):\n",
    "            row=list(conf_matrix[i])\n",
    "            row.insert(0,labels[i])\n",
    "            csvWriter.writerow(row)\n",
    "            "
   ]
  },
  {
   "cell_type": "markdown",
   "metadata": {},
   "source": [
    "Call Visual Recognition on the specified csv file and collect results."
   ]
  },
  {
   "cell_type": "code",
   "execution_count": 6,
   "metadata": {},
   "outputs": [
    {
     "name": "stdout",
     "output_type": "stream",
     "text": [
      "..\n",
      "Finished processing  29  records\n"
     ]
    }
   ],
   "source": [
    "test_classes,vr_predict_classes,vr_predict_conf,images=batchVR(visual_recognition,vr_id,test_csv_file)"
   ]
  },
  {
   "cell_type": "code",
   "execution_count": 7,
   "metadata": {},
   "outputs": [],
   "source": [
    "# print results to csv file including original text, the correct label, \n",
    "# the predicted label and the confidence reported by NLC.\n",
    "csvfileOut=results_csv_file\n",
    "with open(csvfileOut, 'w') as csvOut:\n",
    "    outrow=['image','true class','VR Predicted class','Confidence']\n",
    "    csvWriter = csv.writer(csvOut,dialect='excel')\n",
    "    csvWriter.writerow(outrow)\n",
    "    for i in range(len(images)):\n",
    "        outrow=[images[i],test_classes[i],vr_predict_classes[i],str(vr_predict_conf[i])]\n",
    "        csvWriter.writerow(outrow)"
   ]
  },
  {
   "cell_type": "code",
   "execution_count": 8,
   "metadata": {},
   "outputs": [],
   "source": [
    "# Compute confusion matrix\n",
    "labels=list(set(test_classes))\n",
    "vr_confusion_matrix = confusion_matrix(test_classes, vr_predict_classes, labels)\n",
    "vrConfMatrix = ConfusionMatrix(test_classes, vr_predict_classes)"
   ]
  },
  {
   "cell_type": "code",
   "execution_count": 9,
   "metadata": {},
   "outputs": [],
   "source": [
    "# Print out confusion matrix with labels to csv file\n",
    "confmatrix2csv(vr_confusion_matrix,labels,confmatrix_csv_file)"
   ]
  },
  {
   "cell_type": "code",
   "execution_count": 20,
   "metadata": {},
   "outputs": [
    {
     "data": {
      "text/plain": [
       "<matplotlib.axes._subplots.AxesSubplot at 0x11f6810f0>"
      ]
     },
     "execution_count": 20,
     "metadata": {},
     "output_type": "execute_result"
    },
    {
     "data": {
      "image/png": "[encoded data removed]",
      "text/plain": [
       "<matplotlib.figure.Figure at 0x11f6b2390>"
      ]
     },
     "metadata": {},
     "output_type": "display_data"
    }
   ],
   "source": [
    "%matplotlib inline\n",
    "vrConfMatrix.plot()"
   ]
  },
  {
   "cell_type": "code",
   "execution_count": 16,
   "metadata": {},
   "outputs": [
    {
     "name": "stdout",
     "output_type": "stream",
     "text": [
      "Classification Accuracy:  0.9310344827586207\n"
     ]
    }
   ],
   "source": [
    "# Compute accuracy of classification\n",
    "acc=accuracy_score(test_classes, vr_predict_classes)\n",
    "print('Classification Accuracy: ', acc)"
   ]
  },
  {
   "cell_type": "code",
   "execution_count": 12,
   "metadata": {},
   "outputs": [
    {
     "name": "stdout",
     "output_type": "stream",
     "text": [
      "             precision    recall  f1-score   support\n",
      "\n",
      "    kitchen       0.86      1.00      0.92         6\n",
      "    bedroom       1.00      0.80      0.89         5\n",
      "   bathroom       1.00      0.80      0.89         5\n",
      " diningroom       1.00      1.00      1.00         5\n",
      "   negative       1.00      1.00      1.00         3\n",
      " livingroom       0.83      1.00      0.91         5\n",
      "\n",
      "avg / total       0.94      0.93      0.93        29\n",
      "\n"
     ]
    }
   ],
   "source": [
    "# print precision, recall and f1-scores for the different classes\n",
    "print(classification_report(test_classes, vr_predict_classes, labels=labels))"
   ]
  },
  {
   "cell_type": "code",
   "execution_count": 13,
   "metadata": {},
   "outputs": [],
   "source": [
    "#Optional if you would like each of these metrics separately\n",
    "#[precision,recall,fscore,support]=precision_recall_fscore_support(test_classes, vr_predict_classes, labels=labels)\n",
    "#print(\"precision: \", precision)\n",
    "#print(\"recall: \", recall)\n",
    "#print(\"f1 score: \", fscore)\n",
    "#print(\"support: \", support)"
   ]
  }
 ],
 "metadata": {
  "kernelspec": {
   "display_name": "Python 3",
   "language": "python",
   "name": "python3"
  },
  "language_info": {
   "codemirror_mode": {
    "name": "ipython",
    "version": 3
   },
   "file_extension": ".py",
   "mimetype": "text/x-python",
   "name": "python",
   "nbconvert_exporter": "python",
   "pygments_lexer": "ipython3",
   "version": "3.6.3"
  }
 },
 "nbformat": 4,
 "nbformat_minor": 1
}